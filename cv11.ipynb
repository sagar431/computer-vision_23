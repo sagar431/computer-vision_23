{
 "cells": [
  {
   "cell_type": "markdown",
   "id": "b1c75bff",
   "metadata": {},
   "source": [
    "1. What do REGION PROPOSALS entail?\n",
    "2. What do you mean by NON-MAXIMUM SUPPRESSION? (NMS)\n",
    "3. What exactly is mAP?\n",
    "4. What is a frames per second (FPS)?\n",
    "5. What is an IOU (INTERSECTION OVER UNION)?\n",
    "6. Describe the PRECISION-RECALL CURVE (PR CURVE)\n",
    "7. What is the term &quot;selective search&quot;?\n",
    "8. Describe the R-CNN model&#39;s four components.\n",
    "9. What exactly is the Localization Module?\n",
    "10. What are the R-CNN DISADVANTAGES?"
   ]
  },
  {
   "cell_type": "markdown",
   "id": "f671a47e",
   "metadata": {},
   "source": [
    "# answer"
   ]
  },
  {
   "cell_type": "markdown",
   "id": "c68fa061",
   "metadata": {},
   "source": [
    "1. Region proposals are a technique used in object detection that identifies potential object locations in an image. These proposals are generated using algorithms such as Selective Search or EdgeBoxes, which examine the image at multiple scales and generate candidate regions that are likely to contain objects.\n",
    "\n",
    "2. Non-Maximum Suppression (NMS) is a post-processing technique used in object detection to remove redundant detections. NMS compares the predicted bounding boxes for each object and removes any boxes that have a high overlap or Intersection over Union (IoU) with other boxes. This helps to eliminate duplicate detections and improve the accuracy of the model.\n",
    "\n",
    "3. mAP (mean Average Precision) is a common evaluation metric used in object detection to measure the accuracy of the model. mAP combines precision and recall to provide a single score that reflects the overall performance of the model. A higher mAP indicates better object detection performance.\n",
    "\n",
    "4. Frames per second (FPS) is a measure of the speed or performance of an object detection model. It refers to the number of frames that can be processed by the model in one second. Higher FPS values indicate that the model is faster and more efficient at detecting objects in real-time.\n",
    "\n",
    "5. Intersection over Union (IoU) is a measure of the similarity between two bounding boxes in object detection. It is calculated by dividing the area of overlap between the two boxes by the area of their union. IoU is used in techniques such as Non-Maximum Suppression (NMS) to eliminate redundant detections.\n",
    "\n",
    "6. Precision-Recall (PR) curve is a graphical representation of the performance of an object detection model. It plots the precision and recall values at different confidence thresholds. Precision measures the fraction of true positives among all positive detections, while recall measures the fraction of true positives among all ground truth objects. The PR curve helps to evaluate the trade-off between precision and recall and determine the optimal confidence threshold for object detection.\n",
    "\n",
    "7. Selective search is an algorithm used to generate region proposals in object detection. It examines an image at multiple scales and generates candidate regions that are likely to contain objects. Selective search is a computationally expensive algorithm but can produce high-quality region proposals.\n",
    "\n",
    "8. The R-CNN model consists of four components: (1) the region proposal network (RPN), which generates candidate object regions, (2) the feature extractor, which extracts features from the input image and regions of interest, (3) the classification module, which classifies each region into object or background, and (4) the localization module, which refines the bounding box coordinates for each detected object.\n",
    "\n",
    "9. The Localization Module is responsible for refining the bounding box coordinates for each detected object. It takes the features extracted from the feature extractor and applies regression to adjust the bounding box coordinates based on the region proposal and the corresponding ground truth bounding box.\n",
    "\n",
    "10. The R-CNN model has several disadvantages, including its high computational cost and slow training and inference times. The model also requires a large amount of memory and storage space due to the large number of region proposals and the need to store feature maps for each proposal. Additionally, the R-CNN model is not able to detect objects at different scales and orientations, and it may produce duplicate detections and miss small objects."
   ]
  },
  {
   "cell_type": "code",
   "execution_count": null,
   "id": "2143cab5",
   "metadata": {},
   "outputs": [],
   "source": []
  }
 ],
 "metadata": {
  "kernelspec": {
   "display_name": "Python 3 (ipykernel)",
   "language": "python",
   "name": "python3"
  },
  "language_info": {
   "codemirror_mode": {
    "name": "ipython",
    "version": 3
   },
   "file_extension": ".py",
   "mimetype": "text/x-python",
   "name": "python",
   "nbconvert_exporter": "python",
   "pygments_lexer": "ipython3",
   "version": "3.9.12"
  }
 },
 "nbformat": 4,
 "nbformat_minor": 5
}
